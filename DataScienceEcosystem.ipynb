{
 "cells": [
  {
   "cell_type": "markdown",
   "id": "9d10e524-aa19-42d4-a8dc-1ea5cd5e3278",
   "metadata": {},
   "source": [
    "# H1: Data Science Tools and Ecosystem"
   ]
  },
  {
   "cell_type": "markdown",
   "id": "a8bd37e4-a808-4361-9954-86eee5e4edd4",
   "metadata": {},
   "source": [
    "## H2: In this notebook, Data Science Tools and Ecosystem are summarized."
   ]
  },
  {
   "cell_type": "markdown",
   "id": "3e4cbee1-c518-4437-b338-18cca2a04f6e",
   "metadata": {},
   "source": [
    "**Objectives:**\n",
    "- List popular languages for Data Science\n",
    "- commonly used libraries used by Data Scientists\n",
    "- Data Science Tools\n",
    "- examples of evaluating arithmetic expressions in Python"
   ]
  },
  {
   "cell_type": "markdown",
   "id": "a2b574b7-5405-46bf-bf67-6e76d193b05a",
   "metadata": {},
   "source": [
    "# Some of the popular languages that Data Scientists use are:\n",
    "1. R\n",
    "2. Python\n",
    "3. SQL"
   ]
  },
  {
   "cell_type": "markdown",
   "id": "ee706960-68d1-477c-b330-8b19cf69b97f",
   "metadata": {},
   "source": [
    "#### Some of the commonly used libraries used by Data Scientists include:\n",
    "1. pandas\n",
    "2. numpy\n",
    "3. matplotlib"
   ]
  },
  {
   "cell_type": "markdown",
   "id": "24de6f68-a3a9-48cb-9cc6-4ce522a548af",
   "metadata": {},
   "source": [
    "#### Data Science Tools\n",
    "--------------------\n",
    "|Data Science Tools|\n",
    "--------------------\n",
    "|Apache Spark|\n",
    "|Tensor Flow|\n",
    "|Tableau|"
   ]
  },
  {
   "cell_type": "markdown",
   "id": "da775da2-ecf9-4f9d-b2e1-3bc7a1b950d6",
   "metadata": {
    "tags": []
   },
   "source": [
    "### H3: Below are a few examples of evaluating arithmetic expressions in Python"
   ]
  },
  {
   "cell_type": "code",
   "execution_count": 2,
   "id": "4ee5eb62-c2f7-441f-b976-4f26231d6c18",
   "metadata": {
    "tags": []
   },
   "outputs": [
    {
     "data": {
      "text/plain": [
       "17"
      ]
     },
     "execution_count": 2,
     "metadata": {},
     "output_type": "execute_result"
    }
   ],
   "source": [
    "(3*4)+5\n",
    "#This a simple arithmetic expression to mutiply then add integers"
   ]
  },
  {
   "cell_type": "code",
   "execution_count": 3,
   "id": "35e5c23c-9dfa-42b6-92da-6142f1af748c",
   "metadata": {
    "tags": []
   },
   "outputs": [
    {
     "data": {
      "text/plain": [
       "3.3333333333333335"
      ]
     },
     "execution_count": 3,
     "metadata": {},
     "output_type": "execute_result"
    }
   ],
   "source": [
    "min=200\n",
    "hours=min/60\n",
    "# This will convert 200 minutes to hours by diving by 60\n",
    "hours"
   ]
  },
  {
   "cell_type": "markdown",
   "id": "e883c658-6100-4fe1-b9cb-1111ce86090f",
   "metadata": {
    "tags": []
   },
   "source": [
    "## H2: Author\n",
    "Yuvraj Singh"
   ]
  }
 ],
 "metadata": {
  "kernelspec": {
   "display_name": "Python",
   "language": "python",
   "name": "conda-env-python-py"
  },
  "language_info": {
   "codemirror_mode": {
    "name": "ipython",
    "version": 3
   },
   "file_extension": ".py",
   "mimetype": "text/x-python",
   "name": "python",
   "nbconvert_exporter": "python",
   "pygments_lexer": "ipython3",
   "version": "3.7.12"
  }
 },
 "nbformat": 4,
 "nbformat_minor": 5
}
